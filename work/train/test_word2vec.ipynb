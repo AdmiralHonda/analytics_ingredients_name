{
 "cells": [
  {
   "cell_type": "code",
   "execution_count": 4,
   "source": [
    "from gensim.models import KeyedVectors\n",
    "# 学習データの読み込み\n",
    "recipe_wv = KeyedVectors.load_word2vec_format('../data/trained_data/mix_1_9_600_5.vec.pt', binary=True)\n",
    "recipe2_wv = KeyedVectors.load_word2vec_format('../data//trained_data/rakuten_1_9_600_5.vec.pt', binary=True)\n",
    "\n",
    "# 類推するワード\n",
    "search_word =\"わかめ\"\n",
    "\n",
    "# 学習した単語に近しい単語の意味を類推\n",
    "try:\n",
    "  recipe_results = recipe_wv.most_similar(positive=[search_word])\n",
    "except KeyError as e:\n",
    "  print(e)\n",
    "  recipe_results = [\"単語が存在しない\"]\n",
    "\n",
    "try:\n",
    "  recipe2_results = recipe2_wv.most_similar(positive=[search_word])\n",
    "except KeyError as e:\n",
    "  print(e)\n",
    "  recipe2_results = [\"単語が存在しない\"]\n",
    "\n",
    "# 結果の表示\n",
    "print(\"\\n全テキストファイルの学習データ\\n\")\n",
    "for result in recipe_results:\n",
    "  print(result)\n",
    "\n",
    "print(\"\\n楽天レシピの学習データ\\n\")\n",
    "for result in recipe2_results:\n",
    "  print(result)"
   ],
   "outputs": [
    {
     "output_type": "stream",
     "name": "stdout",
     "text": [
      "\n",
      "全テキストファイルの学習データ\n",
      "\n",
      "('ワカメ', 0.8443390727043152)\n",
      "('乾燥わかめ', 0.7118247151374817)\n",
      "('乾燥ワカメ', 0.6252975463867188)\n",
      "('生わかめ', 0.5916233062744141)\n",
      "('若布', 0.5466289520263672)\n",
      "('もずく', 0.513790488243103)\n",
      "('カットわかめ', 0.5066448450088501)\n",
      "('布海苔', 0.5013192892074585)\n",
      "('塩蔵わかめ', 0.4973352253437042)\n",
      "('あおさ', 0.49272945523262024)\n",
      "\n",
      "楽天レシピの学習データ\n",
      "\n",
      "('ワカメ', 0.800006628036499)\n",
      "('乾燥わかめ', 0.684848964214325)\n",
      "('乾燥ワカメ', 0.5881013870239258)\n",
      "('生わかめ', 0.5551745295524597)\n",
      "('布海苔', 0.4830259382724762)\n",
      "('若布', 0.47515296936035156)\n",
      "('もずく', 0.4736369550228119)\n",
      "('塩蔵わかめ', 0.4702050983905792)\n",
      "('カットわかめ', 0.4589397609233856)\n",
      "('とろろ昆布', 0.4552668333053589)\n"
     ]
    }
   ],
   "metadata": {}
  },
  {
   "cell_type": "code",
   "execution_count": 8,
   "source": [
    "f = open(\"../data/rakuten_url.txt\",'r')\n",
    "data = f.read()\n",
    "f.close()\n",
    "\n",
    "data = data.split(',')\n",
    "\n",
    "reg = int(len(data)/10)\n",
    "print(len(data))\n",
    "\n",
    "sep_data = [ data[i:i+reg] for i in range(0,len(data),reg)]\n",
    "\n",
    "sep_num = 1\n",
    "b_name = \"../data/sep_scry_data/rakuten-url\"\n",
    "for sep_urls in sep_data:\n",
    "    file_name = b_name + str(sep_num) + \".txt\"\n",
    "    print(file_name,\":\",len(sep_urls))\n",
    "    sep_f = open(file_name,\"w\",encoding='utf-8')\n",
    "    sep_f.write(\",\".join(sep_urls))\n",
    "    sep_f.close()\n",
    "    sep_num += 1\n"
   ],
   "outputs": [
    {
     "output_type": "stream",
     "name": "stdout",
     "text": [
      "1381089\n",
      "../data/sep_scry_data/rakuten-url1.txt : 138108\n",
      "../data/sep_scry_data/rakuten-url2.txt : 138108\n",
      "../data/sep_scry_data/rakuten-url3.txt : 138108\n",
      "../data/sep_scry_data/rakuten-url4.txt : 138108\n",
      "../data/sep_scry_data/rakuten-url5.txt : 138108\n",
      "../data/sep_scry_data/rakuten-url6.txt : 138108\n",
      "../data/sep_scry_data/rakuten-url7.txt : 138108\n",
      "../data/sep_scry_data/rakuten-url8.txt : 138108\n",
      "../data/sep_scry_data/rakuten-url9.txt : 138108\n",
      "../data/sep_scry_data/rakuten-url10.txt : 138108\n",
      "../data/sep_scry_data/rakuten-url11.txt : 9\n"
     ]
    }
   ],
   "metadata": {}
  }
 ],
 "metadata": {
  "interpreter": {
   "hash": "98b0a9b7b4eaaa670588a142fd0a9b87eaafe866f1db4228be72b4211d12040f"
  },
  "kernelspec": {
   "name": "python3",
   "display_name": "Python 3.9.6 64-bit ('base': conda)"
  },
  "language_info": {
   "name": "python",
   "version": "3.9.6",
   "mimetype": "text/x-python",
   "codemirror_mode": {
    "name": "ipython",
    "version": 3
   },
   "pygments_lexer": "ipython3",
   "nbconvert_exporter": "python",
   "file_extension": ".py"
  },
  "orig_nbformat": 4
 },
 "nbformat": 4,
 "nbformat_minor": 2
}