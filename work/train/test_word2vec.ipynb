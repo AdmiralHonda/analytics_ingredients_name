{
 "cells": [
  {
   "cell_type": "code",
   "execution_count": 2,
   "source": [
    "from gensim.models import KeyedVectors\n",
    "# 学習データの読み込み\n",
    "recipe_wv = KeyedVectors.load_word2vec_format('../data/trained_data/mix_1_9_600_5.vec.pt', binary=True)\n",
    "recipe2_wv = KeyedVectors.load_word2vec_format('../data//trained_data/GloVe/input_glove_vector_5_600.vec.pt', binary=False)\n",
    "\n",
    "# 類推するワード\n",
    "search_word =\"熱湯\"\n",
    "\n",
    "# 学習した単語に近しい単語の意味を類推\n",
    "try:\n",
    "  recipe_results = recipe_wv.most_similar(positive=[search_word])\n",
    "except KeyError as e:\n",
    "  print(e)\n",
    "  recipe_results = [\"単語が存在しない\"]\n",
    "\n",
    "try:\n",
    "  recipe2_results = recipe2_wv.most_similar(positive=[search_word])\n",
    "except KeyError as e:\n",
    "  print(e)\n",
    "  recipe2_results = [\"単語が存在しない\"]\n",
    "\n",
    "# 結果の表示\n",
    "print(\"\\nWord2vecの学習データ\\n\")\n",
    "for result in recipe_results:\n",
    "  print(result)\n",
    "\n",
    "print(\"\\nGloVeの学習データ\\n\")\n",
    "for result in recipe2_results:\n",
    "  print(result)"
   ],
   "outputs": [
    {
     "output_type": "stream",
     "name": "stdout",
     "text": [
      "\n",
      "Word2vecの学習データ\n",
      "\n",
      "('お湯', 0.6482459902763367)\n",
      "('湯', 0.47677311301231384)\n",
      "('熱闘', 0.4546242356300354)\n",
      "('湯通し', 0.42026081681251526)\n",
      "('湯に', 0.4171830713748932)\n",
      "('沸かし', 0.3864058256149292)\n",
      "('ぬるま湯', 0.36578798294067383)\n",
      "('ねっとう', 0.36243024468421936)\n",
      "('冷水', 0.34496891498565674)\n",
      "('温水', 0.33779671788215637)\n",
      "\n",
      "GloVeの学習データ\n",
      "\n",
      "('お湯', 0.6346032619476318)\n",
      "('湯', 0.6016823053359985)\n",
      "('湯通し', 0.5449549555778503)\n",
      "('沸かし', 0.5248202681541443)\n",
      "('さっと', 0.5136610865592957)\n",
      "('ダイエットサポートティーバッグ', 0.5031768679618835)\n",
      "('茹でる', 0.4856308698654175)\n",
      "('ゆがい', 0.4739053249359131)\n",
      "('サッと', 0.4663752317428589)\n",
      "('茹で', 0.4507855176925659)\n"
     ]
    }
   ],
   "metadata": {}
  },
  {
   "cell_type": "code",
   "execution_count": 8,
   "source": [
    "f = open(\"../data/rakuten_url.txt\",'r')\n",
    "data = f.read()\n",
    "f.close()\n",
    "\n",
    "data = data.split(',')\n",
    "\n",
    "reg = int(len(data)/10)\n",
    "print(len(data))\n",
    "\n",
    "sep_data = [ data[i:i+reg] for i in range(0,len(data),reg)]\n",
    "\n",
    "sep_num = 1\n",
    "b_name = \"../data/sep_scry_data/rakuten-url\"\n",
    "for sep_urls in sep_data:\n",
    "    file_name = b_name + str(sep_num) + \".txt\"\n",
    "    print(file_name,\":\",len(sep_urls))\n",
    "    sep_f = open(file_name,\"w\",encoding='utf-8')\n",
    "    sep_f.write(\",\".join(sep_urls))\n",
    "    sep_f.close()\n",
    "    sep_num += 1\n"
   ],
   "outputs": [
    {
     "output_type": "stream",
     "name": "stdout",
     "text": [
      "1381089\n",
      "../data/sep_scry_data/rakuten-url1.txt : 138108\n",
      "../data/sep_scry_data/rakuten-url2.txt : 138108\n",
      "../data/sep_scry_data/rakuten-url3.txt : 138108\n",
      "../data/sep_scry_data/rakuten-url4.txt : 138108\n",
      "../data/sep_scry_data/rakuten-url5.txt : 138108\n",
      "../data/sep_scry_data/rakuten-url6.txt : 138108\n",
      "../data/sep_scry_data/rakuten-url7.txt : 138108\n",
      "../data/sep_scry_data/rakuten-url8.txt : 138108\n",
      "../data/sep_scry_data/rakuten-url9.txt : 138108\n",
      "../data/sep_scry_data/rakuten-url10.txt : 138108\n",
      "../data/sep_scry_data/rakuten-url11.txt : 9\n"
     ]
    }
   ],
   "metadata": {}
  }
 ],
 "metadata": {
  "interpreter": {
   "hash": "98b0a9b7b4eaaa670588a142fd0a9b87eaafe866f1db4228be72b4211d12040f"
  },
  "kernelspec": {
   "name": "python3",
   "display_name": "Python 3.9.6 64-bit ('base': conda)"
  },
  "language_info": {
   "name": "python",
   "version": "3.9.6",
   "mimetype": "text/x-python",
   "codemirror_mode": {
    "name": "ipython",
    "version": 3
   },
   "pygments_lexer": "ipython3",
   "nbconvert_exporter": "python",
   "file_extension": ".py"
  },
  "orig_nbformat": 4
 },
 "nbformat": 4,
 "nbformat_minor": 2
}