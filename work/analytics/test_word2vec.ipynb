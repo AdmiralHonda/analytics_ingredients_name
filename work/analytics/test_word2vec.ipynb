{
 "cells": [
  {
   "cell_type": "code",
   "execution_count": 9,
   "source": [
    "from gensim.models import KeyedVectors\n",
    "# 学習データの読み込み\n",
    "recipe_wv = KeyedVectors.load_word2vec_format('../data/recipe_step1_10_5.vec.pt', binary=True)\n",
    "recipe2_wv = KeyedVectors.load_word2vec_format('../data/recipe_step_10_5_1_200.vec.pt', binary=True)\n",
    "\n",
    "# 類推するワード\n",
    "search_word =\"牛肉\"\n",
    "\n",
    "# 学習した単語に近しい単語の意味を類推\n",
    "try:\n",
    "  recipe_results = recipe_wv.most_similar(positive=[search_word])\n",
    "except KeyError as e:\n",
    "  print(e)\n",
    "  recipe_results = [\"単語が存在しない\"]\n",
    "\n",
    "try:\n",
    "  recipe2_results = recipe2_wv.most_similar(positive=[search_word])\n",
    "except KeyError as e:\n",
    "  print(e)\n",
    "  recipe2_results = [\"単語が存在しない\"]\n",
    "\n",
    "# 結果の表示\n",
    "print(\"\\nepoch5,100sizeの学習データ\\n\")\n",
    "for result in recipe_results:\n",
    "  print(result)\n",
    "\n",
    "print(\"\\nepoch10,200sizeの調理手順での学習データ\\n\")\n",
    "for result in recipe2_results:\n",
    "  print(result)"
   ],
   "outputs": [
    {
     "output_type": "stream",
     "name": "stdout",
     "text": [
      "\n",
      "epoch5,100sizeの学習データ\n",
      "\n",
      "('豚', 0.8564726114273071)\n",
      "('カルビ', 0.8182327151298523)\n",
      "('肉', 0.8153994679450989)\n",
      "('豚肉', 0.8152100443840027)\n",
      "('豚小間', 0.808826208114624)\n",
      "('小間', 0.799493134021759)\n",
      "('すね', 0.7967097759246826)\n",
      "('豚バラ肉', 0.7905263900756836)\n",
      "('スネ', 0.7896865606307983)\n",
      "('バラ肉', 0.7888405919075012)\n",
      "\n",
      "epoch10,200sizeの調理手順での学習データ\n",
      "\n",
      "('肉', 0.7562951445579529)\n",
      "('豚', 0.7550603151321411)\n",
      "('バラ肉', 0.7370797395706177)\n",
      "('豚肉', 0.7292343378067017)\n",
      "('スネ', 0.7266071438789368)\n",
      "('カルビ', 0.7253616452217102)\n",
      "('お肉', 0.7125179171562195)\n",
      "('牛バラ肉', 0.70210200548172)\n",
      "('豚バラ肉', 0.6996392011642456)\n",
      "('ラム肉', 0.6928253769874573)\n"
     ]
    }
   ],
   "metadata": {}
  },
  {
   "cell_type": "code",
   "execution_count": 8,
   "source": [
    "f = open(\"../data/rakuten_url.txt\",'r')\n",
    "data = f.read()\n",
    "f.close()\n",
    "\n",
    "data = data.split(',')\n",
    "\n",
    "reg = int(len(data)/10)\n",
    "print(len(data))\n",
    "\n",
    "sep_data = [ data[i:i+reg] for i in range(0,len(data),reg)]\n",
    "\n",
    "sep_num = 1\n",
    "b_name = \"../data/sep_scry_data/rakuten-url\"\n",
    "for sep_urls in sep_data:\n",
    "    file_name = b_name + str(sep_num) + \".txt\"\n",
    "    print(file_name,\":\",len(sep_urls))\n",
    "    sep_f = open(file_name,\"w\",encoding='utf-8')\n",
    "    sep_f.write(\",\".join(sep_urls))\n",
    "    sep_f.close()\n",
    "    sep_num += 1\n"
   ],
   "outputs": [
    {
     "output_type": "stream",
     "name": "stdout",
     "text": [
      "1381089\n",
      "../data/sep_scry_data/rakuten-url1.txt : 138108\n",
      "../data/sep_scry_data/rakuten-url2.txt : 138108\n",
      "../data/sep_scry_data/rakuten-url3.txt : 138108\n",
      "../data/sep_scry_data/rakuten-url4.txt : 138108\n",
      "../data/sep_scry_data/rakuten-url5.txt : 138108\n",
      "../data/sep_scry_data/rakuten-url6.txt : 138108\n",
      "../data/sep_scry_data/rakuten-url7.txt : 138108\n",
      "../data/sep_scry_data/rakuten-url8.txt : 138108\n",
      "../data/sep_scry_data/rakuten-url9.txt : 138108\n",
      "../data/sep_scry_data/rakuten-url10.txt : 138108\n",
      "../data/sep_scry_data/rakuten-url11.txt : 9\n"
     ]
    }
   ],
   "metadata": {}
  }
 ],
 "metadata": {
  "interpreter": {
   "hash": "98b0a9b7b4eaaa670588a142fd0a9b87eaafe866f1db4228be72b4211d12040f"
  },
  "kernelspec": {
   "name": "python3",
   "display_name": "Python 3.9.6 64-bit ('base': conda)"
  },
  "language_info": {
   "name": "python",
   "version": "3.9.6",
   "mimetype": "text/x-python",
   "codemirror_mode": {
    "name": "ipython",
    "version": 3
   },
   "pygments_lexer": "ipython3",
   "nbconvert_exporter": "python",
   "file_extension": ".py"
  },
  "orig_nbformat": 4
 },
 "nbformat": 4,
 "nbformat_minor": 2
}