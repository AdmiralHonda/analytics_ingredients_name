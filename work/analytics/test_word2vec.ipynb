{
 "cells": [
  {
   "cell_type": "code",
   "execution_count": 7,
   "source": [
    "from gensim.models import KeyedVectors\n",
    "# 学習データの読み込み\n",
    "recipe_wv = KeyedVectors.load_word2vec_format('../data/recipe_step.vec.pt', binary=True)\n",
    "wiki_wv = KeyedVectors.load_word2vec_format('../data/wiki.vec.pt', binary=True)\n",
    "\n",
    "# 類推するワード\n",
    "search_word =\"ハーブ\"\n",
    "\n",
    "# 学習した単語に近しい単語の意味を類推\n",
    "try:\n",
    "  recipe_results = recipe_wv.most_similar(positive=[search_word])\n",
    "except KeyError as e:\n",
    "  print(e)\n",
    "  recipe_results = [\"単語が存在しない\"]\n",
    "\n",
    "try:\n",
    "  wiki_results = wiki_wv.most_similar(positive=[search_word])\n",
    "except KeyError as e:\n",
    "  print(e)\n",
    "  wiki_results = [\"単語が存在しない\"]\n",
    "\n",
    "# 結果の表示\n",
    "print(\"\\nwikiの学習データ\\n\")\n",
    "for result in wiki_results:\n",
    "  print(result)\n",
    "\n",
    "print(\"\\nクックパッドの調理手順での学習データ\\n\")\n",
    "for result in recipe_results:\n",
    "  print(result)"
   ],
   "outputs": [
    {
     "output_type": "stream",
     "name": "stdout",
     "text": [
      "\n",
      "wikiの学習データ\n",
      "\n",
      "('オレガノ', 0.7988528609275818)\n",
      "('マジョラム', 0.7963295578956604)\n",
      "('香草', 0.7946581840515137)\n",
      "('カモミール', 0.7918915748596191)\n",
      "('コリアンダー', 0.7869433164596558)\n",
      "('パセリ', 0.7867451906204224)\n",
      "('ナツメグ', 0.7817185521125793)\n",
      "('ホースラディッシュ', 0.7795063257217407)\n",
      "('シナモン', 0.7766216993331909)\n",
      "('フェンネル', 0.7739548087120056)\n",
      "\n",
      "クックパッドの調理手順での学習データ\n",
      "\n",
      "('香草', 0.8196880221366882)\n",
      "('スパイス', 0.8152125477790833)\n",
      "('オレガノ', 0.7918732166290283)\n",
      "('ミックスハーブ', 0.7904151082038879)\n",
      "('バジル', 0.7742053270339966)\n",
      "('ローズマリー', 0.7730286717414856)\n",
      "('香辛料', 0.7678663730621338)\n",
      "('ハーブミックス', 0.7659854888916016)\n",
      "('セージ', 0.7565851211547852)\n",
      "('ディル', 0.7516122460365295)\n"
     ]
    }
   ],
   "metadata": {}
  },
  {
   "cell_type": "code",
   "execution_count": 8,
   "source": [
    "f = open(\"../data/rakuten_url.txt\",'r')\n",
    "data = f.read()\n",
    "f.close()\n",
    "\n",
    "data = data.split(',')\n",
    "\n",
    "reg = int(len(data)/10)\n",
    "print(len(data))\n",
    "\n",
    "sep_data = [ data[i:i+reg] for i in range(0,len(data),reg)]\n",
    "\n",
    "sep_num = 1\n",
    "b_name = \"../data/sep_scry_data/rakuten-url\"\n",
    "for sep_urls in sep_data:\n",
    "    file_name = b_name + str(sep_num) + \".txt\"\n",
    "    print(file_name,\":\",len(sep_urls))\n",
    "    sep_f = open(file_name,\"w\",encoding='utf-8')\n",
    "    sep_f.write(\",\".join(sep_urls))\n",
    "    sep_f.close()\n",
    "    sep_num += 1\n"
   ],
   "outputs": [
    {
     "output_type": "stream",
     "name": "stdout",
     "text": [
      "1381089\n",
      "../data/sep_scry_data/rakuten-url1.txt : 138108\n",
      "../data/sep_scry_data/rakuten-url2.txt : 138108\n",
      "../data/sep_scry_data/rakuten-url3.txt : 138108\n",
      "../data/sep_scry_data/rakuten-url4.txt : 138108\n",
      "../data/sep_scry_data/rakuten-url5.txt : 138108\n",
      "../data/sep_scry_data/rakuten-url6.txt : 138108\n",
      "../data/sep_scry_data/rakuten-url7.txt : 138108\n",
      "../data/sep_scry_data/rakuten-url8.txt : 138108\n",
      "../data/sep_scry_data/rakuten-url9.txt : 138108\n",
      "../data/sep_scry_data/rakuten-url10.txt : 138108\n",
      "../data/sep_scry_data/rakuten-url11.txt : 9\n"
     ]
    }
   ],
   "metadata": {}
  }
 ],
 "metadata": {
  "interpreter": {
   "hash": "98b0a9b7b4eaaa670588a142fd0a9b87eaafe866f1db4228be72b4211d12040f"
  },
  "kernelspec": {
   "name": "python3",
   "display_name": "Python 3.9.6 64-bit ('base': conda)"
  },
  "language_info": {
   "name": "python",
   "version": "3.9.6",
   "mimetype": "text/x-python",
   "codemirror_mode": {
    "name": "ipython",
    "version": 3
   },
   "pygments_lexer": "ipython3",
   "nbconvert_exporter": "python",
   "file_extension": ".py"
  },
  "orig_nbformat": 4
 },
 "nbformat": 4,
 "nbformat_minor": 2
}