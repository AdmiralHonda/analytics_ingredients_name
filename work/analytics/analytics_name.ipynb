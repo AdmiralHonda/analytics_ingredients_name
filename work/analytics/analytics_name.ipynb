{
 "cells": [
  {
   "cell_type": "code",
   "execution_count": 1,
   "source": [
    "\"\"\"\n",
    "食材名を解析するスクリプトです。\n",
    "\"\"\"\n",
    "import pandas as pd\n",
    "import MeCab\n",
    "from tqdm import tqdm as progress\n",
    "\n",
    "# 食材名データの読み込み\n",
    "data = pd.read_csv(\"../data/recommend_ingredients.csv\",names=[\"id\",\"name\",\"quantity\"])\n",
    "# 変換表の読み込み\n",
    "exchange = pd.read_csv(\"../data/exchange_before.csv\",names=[\"id\",\"name\",\"plus\",\"unit\",\"g\"])\n",
    "# カナに統一した変換表の読み込み\n",
    "exchange_kana = pd.read_csv(\"../data/exchanged_map.csv\")\n",
    "\n",
    "# 必要な情報のみ抽出\n",
    "exchange_kana = exchange_kana[[\"id\",\"name\"]]\n",
    "data = data[[\"id\",\"name\"]]\n",
    "\n",
    "m = MeCab.Tagger(\"-d /usr/lib/x86_64-linux-gnu/mecab/dic/mecab-ipadic-neologd\")\n",
    "\n",
    "\"\"\"\n",
    "食材名から名詞部分を抜き出す関数\n",
    "名詞が一つの場合はその読みを返す。\n",
    "入力が文字列でない場合はNoneを返す\n",
    "複数の名詞がある場合には区切り文字を;にして連結する\n",
    "名詞ではあるが、,を区切り文字とした場合に辞書の8番目に読みがない場合は\n",
    "先頭に?をつけて返している。\n",
    "名詞がない場合は-を返す\n",
    "\"\"\"\n",
    "def pick_ingredients(words,m):\n",
    "  tmp_ingredients = []\n",
    "  if type(words) != str:\n",
    "    return None\n",
    "  else:\n",
    "    parsed_text = m.parseToNode(words)\n",
    "    while parsed_text:\n",
    "      node = parsed_text.feature.split(',')\n",
    "      # 名詞のみ抽出\n",
    "      if node[0] == \"名詞\":\n",
    "        try:\n",
    "          tmp_ingredients.append(node[7])\n",
    "        except IndexError: # 8番目の要素に読みがない場合\n",
    "          tmp_ingredients.append( \"?\" + parsed_text.surface)\n",
    "      else:\n",
    "        # 名詞以外は無視\n",
    "        pass\n",
    "      parsed_text = parsed_text.next\n",
    "  length = len(tmp_ingredients)\n",
    "  if length == 1:\n",
    "    return tmp_ingredients[0]\n",
    "  elif length >= 2:\n",
    "    return ';'.join(tmp_ingredients)\n",
    "  else:\n",
    "    return '-'\n",
    "\n",
    "# 進捗を確認\n",
    "progress.pandas()\n",
    "# 関数を適応\n",
    "data_name_separated = data\n",
    "data_name_separated[\"name\"] = data['name'].progress_apply(pick_ingredients,m=m)\n",
    "print(data_name_separated.head(20))"
   ],
   "outputs": [
    {
     "output_type": "stream",
     "name": "stderr",
     "text": [
      " 56%|█████▌    | 6242489/11235222 [47:30<12:12:54, 113.54it/s]"
     ]
    }
   ],
   "metadata": {}
  },
  {
   "cell_type": "code",
   "execution_count": null,
   "source": [],
   "outputs": [
    {
     "output_type": "error",
     "ename": "Error",
     "evalue": "Session cannot generate requests",
     "traceback": [
      "Error: Session cannot generate requests",
      "at w.executeCodeCell (/home/jovyan/.vscode-server/extensions/ms-toolsai.jupyter-2021.6.999662501/out/client/extension.js:90:328422)",
      "at w.execute (/home/jovyan/.vscode-server/extensions/ms-toolsai.jupyter-2021.6.999662501/out/client/extension.js:90:327811)",
      "at w.start (/home/jovyan/.vscode-server/extensions/ms-toolsai.jupyter-2021.6.999662501/out/client/extension.js:90:323627)",
      "at async t.CellExecutionQueue.executeQueuedCells (/home/jovyan/.vscode-server/extensions/ms-toolsai.jupyter-2021.6.999662501/out/client/extension.js:90:338053)",
      "at async t.CellExecutionQueue.start (/home/jovyan/.vscode-server/extensions/ms-toolsai.jupyter-2021.6.999662501/out/client/extension.js:90:337593)"
     ]
    }
   ],
   "metadata": {}
  }
 ],
 "metadata": {
  "interpreter": {
   "hash": "98b0a9b7b4eaaa670588a142fd0a9b87eaafe866f1db4228be72b4211d12040f"
  },
  "kernelspec": {
   "display_name": "Python 3.9.5 64-bit ('base': conda)",
   "name": "python3"
  },
  "language_info": {
   "codemirror_mode": {
    "name": "ipython",
    "version": 3
   },
   "file_extension": ".py",
   "mimetype": "text/x-python",
   "name": "python",
   "nbconvert_exporter": "python",
   "pygments_lexer": "ipython3",
   "version": "3.9.5"
  },
  "orig_nbformat": 4
 },
 "nbformat": 4,
 "nbformat_minor": 2
}