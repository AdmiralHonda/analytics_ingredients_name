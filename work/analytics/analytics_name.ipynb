{
 "cells": [
  {
   "cell_type": "code",
   "execution_count": 1,
   "metadata": {},
   "outputs": [
    {
     "name": "stderr",
     "output_type": "stream",
     "text": [
      " 56%|█████▌    | 6242489/11235222 [47:30<12:12:54, 113.54it/s]"
     ]
    }
   ],
   "source": [
    "\"\"\"\n",
    "食材名を解析するスクリプトです。\n",
    "\"\"\"\n",
    "import pandas as pd\n",
    "import MeCab\n",
    "from tqdm import tqdm as progress\n",
    "\n",
    "# 食材名データの読み込み\n",
    "data = pd.read_csv(\"../data/recommend_ingredients.csv\",names=[\"id\",\"name\",\"quantity\"])\n",
    "# 変換表の読み込み\n",
    "exchange = pd.read_csv(\"../data/exchange_before.csv\",names=[\"id\",\"name\",\"plus\",\"unit\",\"g\"])\n",
    "# カナに統一した変換表の読み込み\n",
    "exchange_kana = pd.read_csv(\"../data/exchanged_map.csv\")\n",
    "\n",
    "# 必要な情報のみ抽出\n",
    "exchange_kana = exchange_kana[[\"id\",\"name\"]]\n",
    "data = data[[\"id\",\"name\"]]\n",
    "\n",
    "m = MeCab.Tagger(\"-d /usr/lib/x86_64-linux-gnu/mecab/dic/mecab-ipadic-neologd\")\n",
    "\n",
    "\"\"\"\n",
    "食材名から名詞部分を抜き出す関数\n",
    "名詞が一つの場合はその読みを返す。\n",
    "入力が文字列でない場合はNoneを返す\n",
    "複数の名詞がある場合には区切り文字を;にして連結する\n",
    "名詞ではあるが、,を区切り文字とした場合に辞書の8番目に読みがない場合は\n",
    "先頭に?をつけて返している。\n",
    "名詞がない場合は-を返す\n",
    "\"\"\"\n",
    "def pick_ingredients(words,m):\n",
    "  tmp_ingredients = []\n",
    "  if type(words) != str:\n",
    "    return None\n",
    "  else:\n",
    "    parsed_text = m.parseToNode(words)\n",
    "    while parsed_text:\n",
    "      node = parsed_text.feature.split(',')\n",
    "      # 名詞のみ抽出\n",
    "      if node[0] == \"名詞\":\n",
    "        try:\n",
    "          tmp_ingredients.append(node[7])\n",
    "        except IndexError: # 8番目の要素に読みがない場合\n",
    "          tmp_ingredients.append( \"?\" + parsed_text.surface)\n",
    "      else:\n",
    "        # 名詞以外は無視\n",
    "        pass\n",
    "      parsed_text = parsed_text.next\n",
    "  length = len(tmp_ingredients)\n",
    "  if length == 1:\n",
    "    return tmp_ingredients[0]\n",
    "  elif length >= 2:\n",
    "    return ';'.join(tmp_ingredients)\n",
    "  else:\n",
    "    return '-'\n",
    "\n",
    "# 進捗を確認\n",
    "progress.pandas()\n",
    "# 関数を適応\n",
    "data_name_separated = data\n",
    "data_name_separated[\"name\"] = data['name'].progress_apply(pick_ingredients,m=m)\n",
    "print(data_name_separated.head(20))"
   ]
  },
  {
   "cell_type": "code",
   "execution_count": null,
   "metadata": {},
   "outputs": [
    {
     "ename": "Error",
     "evalue": "Session cannot generate requests",
     "output_type": "error",
     "traceback": [
      "Error: Session cannot generate requests",
      "at w.executeCodeCell (/home/jovyan/.vscode-server/extensions/ms-toolsai.jupyter-2021.6.999662501/out/client/extension.js:90:328422)",
      "at w.execute (/home/jovyan/.vscode-server/extensions/ms-toolsai.jupyter-2021.6.999662501/out/client/extension.js:90:327811)",
      "at w.start (/home/jovyan/.vscode-server/extensions/ms-toolsai.jupyter-2021.6.999662501/out/client/extension.js:90:323627)",
      "at async t.CellExecutionQueue.executeQueuedCells (/home/jovyan/.vscode-server/extensions/ms-toolsai.jupyter-2021.6.999662501/out/client/extension.js:90:338053)",
      "at async t.CellExecutionQueue.start (/home/jovyan/.vscode-server/extensions/ms-toolsai.jupyter-2021.6.999662501/out/client/extension.js:90:337593)"
     ]
    }
   ],
   "source": [
    "\n",
    "\"\"\"\n",
    "変換表からカナに変換した食材名\n",
    "を検索、その結果を返す。\n",
    "結果は変換表のidが文字列で返される。\n",
    "複数の候補がある場合は\"id;id...\"といった形のひとつの文字列として返される。\n",
    "\"\"\"\n",
    "def exchange_map_ingre(ingredients,exchange_map):\n",
    "  # 食材名がない場合\n",
    "  if ingredients == None:\n",
    "    return ingredients\n",
    "  elif ingredients == '-':\n",
    "    return \"-\"\n",
    "\n",
    "  ingre = pd.DataFrame([])\n",
    "\n",
    "  # 複数の食材名候補がある場合\n",
    "  if \";\" in ingredients:\n",
    "    tmp_ingredients = ingredients.split(\";\")\n",
    "    for tmp in tmp_ingredients:\n",
    "      if \"?\" in tmp:\n",
    "        pass\n",
    "      else:\n",
    "        match_ingre = exchange_map[exchange_map[\"name\"] == tmp]\n",
    "        ingre = match_ingre[~match_ingre.duplicated(subset='name')]\n",
    "        ingre.append(match_ingre[~match_ingre.duplicated(subset='name')])\n",
    "  else:\n",
    "    # 食材名が一つの時\n",
    "    if \"?\" in ingredients:\n",
    "      return ingredients\n",
    "    ingre = exchange_map[exchange_map[\"name\"] == ingredients]\n",
    "    ingre = ingre[~ingre.duplicated(subset='name')]\n",
    "  \n",
    "  # マッチしてないときのサポート\n",
    "  if ingre.empty:\n",
    "    return \"empty\"\n",
    "\n",
    "  return ';'.join(map(str,ingre[\"id\"].tolist()))\n",
    "\n",
    "# 関数の適応\n",
    "match_map = data_name_separated['name'].progress_apply(exchange_map_ingre, exchange_map=exchange_kana)"
   ]
  }
 ],
 "metadata": {
  "interpreter": {
   "hash": "98b0a9b7b4eaaa670588a142fd0a9b87eaafe866f1db4228be72b4211d12040f"
  },
  "kernelspec": {
   "display_name": "Python 3.9.5 64-bit ('base': conda)",
   "name": "python3"
  },
  "language_info": {
   "codemirror_mode": {
    "name": "ipython",
    "version": 3
   },
   "file_extension": ".py",
   "mimetype": "text/x-python",
   "name": "python",
   "nbconvert_exporter": "python",
   "pygments_lexer": "ipython3",
   "version": "3.9.5"
  },
  "orig_nbformat": 4
 },
 "nbformat": 4,
 "nbformat_minor": 2
}