{
 "cells": [
  {
   "cell_type": "code",
   "execution_count": null,
   "source": [
    "\"\"\"\n",
    "実行結果を解析するスクリプトです。\n",
    "\"\"\"\n",
    "import pandas as pd\n",
    "\n",
    "data = pd.read_csv(\"../data/exchange_data/step3_glove.csv\")\n",
    "\n",
    "data = data[~data[\"result\"].str.contains(\"empty|keyerror\")]\n",
    "data.to_csv(\"../data/exchange_data/step3_result.csv\")\n",
    "print(len(data))"
   ],
   "outputs": [],
   "metadata": {}
  },
  {
   "cell_type": "code",
   "execution_count": 1,
   "source": [
    "\"\"\"\n",
    "コーパスの確認をするスクリプトです。\n",
    "\"\"\"\n",
    "import re\n",
    "import pandas as pd\n",
    "\n",
    "clean_text = re.compile('[!\"#$%&\\'\\\\\\\\()*+,-./:;<=>?@[\\\\]^_`{|}~「」〔〕“”〈〉『』【】＆＊・（）＄＃＠。、？！｀＋￥％]')\n",
    "\n",
    "data = pd.read_csv(\"../data/train_data/recipe_memo.csv\",names=[\"step\"])\n",
    "cleaned_data = data.apply(lambda data:data.str.replace(clean_text,'',regex=True))"
   ],
   "outputs": [],
   "metadata": {}
  },
  {
   "cell_type": "code",
   "execution_count": 2,
   "source": [
    "cleaned_data = cleaned_data.dropna(subset=[\"step\"])\n",
    "cleaned_data[\"str_len\"] = cleaned_data[\"step\"].apply(lambda data:len(data))\n",
    "output = cleaned_data[cleaned_data[\"str_len\"] != 0]\n",
    "output.describe()"
   ],
   "outputs": [
    {
     "output_type": "execute_result",
     "data": {
      "text/html": [
       "<div>\n",
       "<style scoped>\n",
       "    .dataframe tbody tr th:only-of-type {\n",
       "        vertical-align: middle;\n",
       "    }\n",
       "\n",
       "    .dataframe tbody tr th {\n",
       "        vertical-align: top;\n",
       "    }\n",
       "\n",
       "    .dataframe thead th {\n",
       "        text-align: right;\n",
       "    }\n",
       "</style>\n",
       "<table border=\"1\" class=\"dataframe\">\n",
       "  <thead>\n",
       "    <tr style=\"text-align: right;\">\n",
       "      <th></th>\n",
       "      <th>str_len</th>\n",
       "    </tr>\n",
       "  </thead>\n",
       "  <tbody>\n",
       "    <tr>\n",
       "      <th>count</th>\n",
       "      <td>1.081126e+07</td>\n",
       "    </tr>\n",
       "    <tr>\n",
       "      <th>mean</th>\n",
       "      <td>2.822550e+01</td>\n",
       "    </tr>\n",
       "    <tr>\n",
       "      <th>std</th>\n",
       "      <td>4.860047e+02</td>\n",
       "    </tr>\n",
       "    <tr>\n",
       "      <th>min</th>\n",
       "      <td>1.000000e+00</td>\n",
       "    </tr>\n",
       "    <tr>\n",
       "      <th>25%</th>\n",
       "      <td>1.600000e+01</td>\n",
       "    </tr>\n",
       "    <tr>\n",
       "      <th>50%</th>\n",
       "      <td>2.500000e+01</td>\n",
       "    </tr>\n",
       "    <tr>\n",
       "      <th>75%</th>\n",
       "      <td>3.800000e+01</td>\n",
       "    </tr>\n",
       "    <tr>\n",
       "      <th>max</th>\n",
       "      <td>1.334866e+06</td>\n",
       "    </tr>\n",
       "  </tbody>\n",
       "</table>\n",
       "</div>"
      ],
      "text/plain": [
       "            str_len\n",
       "count  1.081126e+07\n",
       "mean   2.822550e+01\n",
       "std    4.860047e+02\n",
       "min    1.000000e+00\n",
       "25%    1.600000e+01\n",
       "50%    2.500000e+01\n",
       "75%    3.800000e+01\n",
       "max    1.334866e+06"
      ]
     },
     "metadata": {},
     "execution_count": 2
    }
   ],
   "metadata": {}
  },
  {
   "cell_type": "code",
   "execution_count": 3,
   "source": [
    "output.describe()\n",
    "#output[\"step\"].to_csv('../data/train_data/fix_recipe_memo.csv')\n",
    "print(len(output))"
   ],
   "outputs": [
    {
     "output_type": "stream",
     "name": "stdout",
     "text": [
      "10811257\n"
     ]
    }
   ],
   "metadata": {}
  },
  {
   "cell_type": "code",
   "execution_count": 29,
   "source": [
    "output[\"str_len\"].sum()"
   ],
   "outputs": [
    {
     "output_type": "execute_result",
     "data": {
      "text/plain": [
       "305153110"
      ]
     },
     "metadata": {},
     "execution_count": 29
    }
   ],
   "metadata": {}
  },
  {
   "cell_type": "code",
   "execution_count": 6,
   "source": [
    "\"\"\"\n",
    "コーパスの作成\n",
    "\"\"\"\n",
    "from tqdm import tqdm as tq\n",
    "import MeCab\n",
    "\n",
    "m = MeCab.Tagger(\"-d /usr/lib/x86_64-linux-gnu/mecab/dic/mecab-ipadic-neologd -Owakati\")\n",
    "\n",
    "# 合計語彙数\n",
    "num = 0\n",
    "# データの総文字数\n",
    "str_len = output[\"str_len\"].sum()\n",
    "# 学習データ\n",
    "corpas = \"\"\n",
    "\n",
    "for step in tq(output[\"step\"],total=len(output)):\n",
    "    wakati = m.parse(step)\n",
    "    num += len(wakati.split(' '))\n",
    "    corpas += wakati\n",
    "\n",
    "with open(\"../data/train_data/cookpad_step_corpas.txt\",'w') as out_corpas:\n",
    "    out_corpas.write(corpas)\n",
    "\n",
    "print(\"平均語彙サイズ:\",str_len/num)\n",
    "print(\"平均語彙数:\",num/len(output))"
   ],
   "outputs": [
    {
     "output_type": "stream",
     "name": "stderr",
     "text": [
      "100%|██████████| 10811257/10811257 [07:16<00:00, 24759.61it/s]\n"
     ]
    },
    {
     "output_type": "stream",
     "name": "stdout",
     "text": [
      "平均語彙サイズ: 1.796835761781823\n",
      "平均語彙数: 15.708446113157795\n"
     ]
    }
   ],
   "metadata": {}
  },
  {
   "cell_type": "code",
   "execution_count": 2,
   "source": [
    "import MeCab\n",
    "\n",
    "m = MeCab.Tagger(\"-d /usr/lib/x86_64-linux-gnu/mecab/dic/mecab-ipadic-neologd -Owakati\")\n",
    "\n",
    "unko = m.parse(\"うんこたべたいです\")\n",
    "print(unko.split(' '))"
   ],
   "outputs": [
    {
     "output_type": "stream",
     "name": "stdout",
     "text": [
      "['うんこ', 'たべ', 'たい', 'です', '\\n']\n"
     ]
    }
   ],
   "metadata": {}
  }
 ],
 "metadata": {
  "interpreter": {
   "hash": "98b0a9b7b4eaaa670588a142fd0a9b87eaafe866f1db4228be72b4211d12040f"
  },
  "kernelspec": {
   "name": "python3",
   "display_name": "Python 3.9.6 64-bit ('base': conda)"
  },
  "language_info": {
   "codemirror_mode": {
    "name": "ipython",
    "version": 3
   },
   "file_extension": ".py",
   "mimetype": "text/x-python",
   "name": "python",
   "nbconvert_exporter": "python",
   "pygments_lexer": "ipython3",
   "version": "3.9.6"
  },
  "orig_nbformat": 4
 },
 "nbformat": 4,
 "nbformat_minor": 2
}