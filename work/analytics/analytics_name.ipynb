{
 "cells": [
  {
   "cell_type": "code",
   "execution_count": null,
   "source": [
    "\"\"\"\n",
    "実行結果を解析するスクリプトです。\n",
    "\"\"\"\n",
    "import pandas as pd\n",
    "\n",
    "data = pd.read_csv(\"../data/exchange_data/step3_glove.csv\")\n",
    "\n",
    "data = data[~data[\"result\"].str.contains(\"empty|keyerror\")]\n",
    "data.to_csv(\"../data/exchange_data/step3_result.csv\")\n",
    "print(len(data))"
   ],
   "outputs": [],
   "metadata": {}
  },
  {
   "cell_type": "code",
   "execution_count": 24,
   "source": [
    "\"\"\"\n",
    "コーパスの確認をするスクリプトです。\n",
    "\"\"\"\n",
    "import re\n",
    "import pandas as pd\n",
    "\n",
    "clean_text = re.compile('[!\"#$%&\\'\\\\\\\\()*+,-./:;<=>?@[\\\\]^_`{|}~「」〔〕“”〈〉『』【】＆＊・（）＄＃＠。、？！｀＋￥％]')\n",
    "\n",
    "data = pd.read_csv(\"../data/train_data/recipe_memo.csv\",names=[\"step\"])\n",
    "cleaned_data = data.apply(lambda data:data.str.replace(clean_text,'',regex=True))"
   ],
   "outputs": [],
   "metadata": {}
  },
  {
   "cell_type": "code",
   "execution_count": 25,
   "source": [
    "cleaned_data = cleaned_data.dropna(subset=[\"step\"])\n",
    "cleaned_data[\"str_len\"] = cleaned_data[\"step\"].apply(lambda data:len(data))\n",
    "output = cleaned_data[cleaned_data[\"str_len\"] != 0]\n",
    "output.head(10)"
   ],
   "outputs": [
    {
     "output_type": "execute_result",
     "data": {
      "text/html": [
       "<div>\n",
       "<style scoped>\n",
       "    .dataframe tbody tr th:only-of-type {\n",
       "        vertical-align: middle;\n",
       "    }\n",
       "\n",
       "    .dataframe tbody tr th {\n",
       "        vertical-align: top;\n",
       "    }\n",
       "\n",
       "    .dataframe thead th {\n",
       "        text-align: right;\n",
       "    }\n",
       "</style>\n",
       "<table border=\"1\" class=\"dataframe\">\n",
       "  <thead>\n",
       "    <tr style=\"text-align: right;\">\n",
       "      <th></th>\n",
       "      <th>step</th>\n",
       "      <th>str_len</th>\n",
       "    </tr>\n",
       "  </thead>\n",
       "  <tbody>\n",
       "    <tr>\n",
       "      <th>0</th>\n",
       "      <td>鍋に豚肉をいれて酒砂糖みりん醤油しょうが薄切りにんにくで煮込みます</td>\n",
       "      <td>33</td>\n",
       "    </tr>\n",
       "    <tr>\n",
       "      <th>1</th>\n",
       "      <td>にんじんとれんこんをおろし金でおろします</td>\n",
       "      <td>20</td>\n",
       "    </tr>\n",
       "    <tr>\n",
       "      <th>2</th>\n",
       "      <td>挽肉と玉ねぎのみじん切りを加えよく</td>\n",
       "      <td>17</td>\n",
       "    </tr>\n",
       "    <tr>\n",
       "      <th>4</th>\n",
       "      <td>混ぜます</td>\n",
       "      <td>4</td>\n",
       "    </tr>\n",
       "    <tr>\n",
       "      <th>5</th>\n",
       "      <td>塩コショウを加えピーマンに詰めあとは焼くだけ</td>\n",
       "      <td>22</td>\n",
       "    </tr>\n",
       "    <tr>\n",
       "      <th>6</th>\n",
       "      <td>少し蒸らして火を通しできあがり</td>\n",
       "      <td>15</td>\n",
       "    </tr>\n",
       "    <tr>\n",
       "      <th>7</th>\n",
       "      <td>たれはおろしだれが一番</td>\n",
       "      <td>11</td>\n",
       "    </tr>\n",
       "    <tr>\n",
       "      <th>8</th>\n",
       "      <td>米は研がずにそのまま使っちゃえ</td>\n",
       "      <td>15</td>\n",
       "    </tr>\n",
       "    <tr>\n",
       "      <th>10</th>\n",
       "      <td>なんてったって簡単チーズリゾット</td>\n",
       "      <td>16</td>\n",
       "    </tr>\n",
       "    <tr>\n",
       "      <th>11</th>\n",
       "      <td>水も適当に普通炊くよりも多めです</td>\n",
       "      <td>16</td>\n",
       "    </tr>\n",
       "  </tbody>\n",
       "</table>\n",
       "</div>"
      ],
      "text/plain": [
       "                                 step  str_len\n",
       "0   鍋に豚肉をいれて酒砂糖みりん醤油しょうが薄切りにんにくで煮込みます       33\n",
       "1                にんじんとれんこんをおろし金でおろします       20\n",
       "2                   挽肉と玉ねぎのみじん切りを加えよく       17\n",
       "4                                混ぜます        4\n",
       "5              塩コショウを加えピーマンに詰めあとは焼くだけ       22\n",
       "6                     少し蒸らして火を通しできあがり       15\n",
       "7                         たれはおろしだれが一番       11\n",
       "8                     米は研がずにそのまま使っちゃえ       15\n",
       "10                   なんてったって簡単チーズリゾット       16\n",
       "11                   水も適当に普通炊くよりも多めです       16"
      ]
     },
     "metadata": {},
     "execution_count": 25
    }
   ],
   "metadata": {}
  },
  {
   "cell_type": "code",
   "execution_count": 27,
   "source": [
    "output.describe()\n",
    "output[\"step\"].to_csv('../data/train_data/fix_recipe_memo.csv')"
   ],
   "outputs": [],
   "metadata": {}
  },
  {
   "cell_type": "code",
   "execution_count": 29,
   "source": [
    "output[\"str_len\"].sum()"
   ],
   "outputs": [
    {
     "output_type": "execute_result",
     "data": {
      "text/plain": [
       "305153110"
      ]
     },
     "metadata": {},
     "execution_count": 29
    }
   ],
   "metadata": {}
  },
  {
   "cell_type": "code",
   "execution_count": 34,
   "source": [
    "\"\"\"\n",
    "コーパスの作成\n",
    "\"\"\"\n",
    "from tqdm import tqdm as tq\n",
    "import MeCab\n",
    "\n",
    "m = MeCab.Tagger(\"-d /usr/lib/x86_64-linux-gnu/mecab/dic/mecab-ipadic-neologd -Owakati\")\n",
    "\n",
    "# 合計語彙数\n",
    "num = 0\n",
    "# データの総文字数\n",
    "str_len = output[\"str_len\"].sum()\n",
    "# 学習データ\n",
    "corpas = \"\"\n",
    "\n",
    "for step in tq(output[\"step\"],total=len(output)):\n",
    "    wakati = m.parse(step)\n",
    "    num += len(wakati)\n",
    "    tmp = \"\".join(wakati)\n",
    "    corpas += tmp + \"\\n\"\n",
    "\n",
    "with open(\"../data/train_data/cookpad_step_corpas.txt\",'w') as out_corpas:\n",
    "    out_corpas.write(corpas)\n",
    "\n",
    "print(\"平均語彙サイズ:\",str_len/num)\n",
    "print(\"平均語彙数:\",num/len(output))"
   ],
   "outputs": [
    {
     "output_type": "stream",
     "name": "stderr",
     "text": [
      "100%|██████████| 10811257/10811257 [05:07<00:00, 35167.45it/s]\n"
     ]
    },
    {
     "output_type": "stream",
     "name": "stdout",
     "text": [
      "平均語彙サイズ: 0.6433526802049334\n",
      "平均語彙数: 43.87251130927699\n"
     ]
    }
   ],
   "metadata": {}
  }
 ],
 "metadata": {
  "interpreter": {
   "hash": "98b0a9b7b4eaaa670588a142fd0a9b87eaafe866f1db4228be72b4211d12040f"
  },
  "kernelspec": {
   "name": "python3",
   "display_name": "Python 3.9.6 64-bit ('base': conda)"
  },
  "language_info": {
   "codemirror_mode": {
    "name": "ipython",
    "version": 3
   },
   "file_extension": ".py",
   "mimetype": "text/x-python",
   "name": "python",
   "nbconvert_exporter": "python",
   "pygments_lexer": "ipython3",
   "version": "3.9.6"
  },
  "orig_nbformat": 4
 },
 "nbformat": 4,
 "nbformat_minor": 2
}