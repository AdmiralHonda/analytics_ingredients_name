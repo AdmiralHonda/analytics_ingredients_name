{
 "cells": [
  {
   "cell_type": "code",
   "execution_count": 1,
   "metadata": {},
   "outputs": [
    {
     "data": {
      "text/html": [
       "<div>\n",
       "<style scoped>\n",
       "    .dataframe tbody tr th:only-of-type {\n",
       "        vertical-align: middle;\n",
       "    }\n",
       "\n",
       "    .dataframe tbody tr th {\n",
       "        vertical-align: top;\n",
       "    }\n",
       "\n",
       "    .dataframe thead th {\n",
       "        text-align: right;\n",
       "    }\n",
       "</style>\n",
       "<table border=\"1\" class=\"dataframe\">\n",
       "  <thead>\n",
       "    <tr style=\"text-align: right;\">\n",
       "      <th></th>\n",
       "      <th>id</th>\n",
       "      <th>step</th>\n",
       "    </tr>\n",
       "  </thead>\n",
       "  <tbody>\n",
       "    <tr>\n",
       "      <th>0</th>\n",
       "      <td>ad7d585b06850f8437ff5fb97d3c7a823ff21bb1</td>\n",
       "      <td>鍋に豚肉をいれて酒砂糖みりん醤油しょうが薄切りにんにくで煮込みます</td>\n",
       "    </tr>\n",
       "    <tr>\n",
       "      <th>1</th>\n",
       "      <td>4afce5687dc173ad4fef943b686582a1cd06e264</td>\n",
       "      <td>にんじんとれんこんをおろし金でおろします</td>\n",
       "    </tr>\n",
       "    <tr>\n",
       "      <th>2</th>\n",
       "      <td>4afce5687dc173ad4fef943b686582a1cd06e264</td>\n",
       "      <td>挽肉と玉ねぎのみじん切りを加えよく</td>\n",
       "    </tr>\n",
       "    <tr>\n",
       "      <th>3</th>\n",
       "      <td>混ぜます</td>\n",
       "      <td>NaN</td>\n",
       "    </tr>\n",
       "    <tr>\n",
       "      <th>4</th>\n",
       "      <td>4afce5687dc173ad4fef943b686582a1cd06e264</td>\n",
       "      <td>塩コショウを加えピーマンに詰めあとは焼くだけ</td>\n",
       "    </tr>\n",
       "  </tbody>\n",
       "</table>\n",
       "</div>"
      ],
      "text/plain": [
       "                                         id                               step\n",
       "0  ad7d585b06850f8437ff5fb97d3c7a823ff21bb1  鍋に豚肉をいれて酒砂糖みりん醤油しょうが薄切りにんにくで煮込みます\n",
       "1  4afce5687dc173ad4fef943b686582a1cd06e264               にんじんとれんこんをおろし金でおろします\n",
       "2  4afce5687dc173ad4fef943b686582a1cd06e264                  挽肉と玉ねぎのみじん切りを加えよく\n",
       "3                                      混ぜます                                NaN\n",
       "4  4afce5687dc173ad4fef943b686582a1cd06e264             塩コショウを加えピーマンに詰めあとは焼くだけ"
      ]
     },
     "execution_count": 1,
     "metadata": {},
     "output_type": "execute_result"
    }
   ],
   "source": [
    "\"\"\"\n",
    "コーパスの確認をするスクリプトです。\n",
    "\"\"\"\n",
    "import re\n",
    "import pandas as pd\n",
    "\n",
    "clean_text = re.compile('[!\"#$＄%&\\'\\\\\\\\()*+,-./:：;<=>?@[\\\\]^_`{|}~「」｣〔〕＜＞～“”〈〉『』【】＆＊✴・（）↑＄＃＠Ⓣ。、？…！｀＋￥％⚫︎⭕〇◯△◇☆✩☆✧･　※ ◎○▼▲■◆♦●★♡┗└┌✿ё◉♪♫♬]')\n",
    "\n",
    "data = pd.read_csv(\"../data/train_data/cookpad_steps.csv\",names=[\"id\",\"step\"])\n",
    "cleaned_data = data.apply(lambda data:data.str.replace(clean_text,'',regex=True))\n",
    "cleaned_data.head()"
   ]
  },
  {
   "cell_type": "code",
   "execution_count": 3,
   "metadata": {},
   "outputs": [
    {
     "name": "stderr",
     "output_type": "stream",
     "text": [
      "/tmp/ipykernel_17539/2115145791.py:2: SettingWithCopyWarning: \n",
      "A value is trying to be set on a copy of a slice from a DataFrame.\n",
      "Try using .loc[row_indexer,col_indexer] = value instead\n",
      "\n",
      "See the caveats in the documentation: https://pandas.pydata.org/pandas-docs/stable/user_guide/indexing.html#returning-a-view-versus-a-copy\n",
      "  cleaned_data[\"str_len\"] = cleaned_data[\"step\"].apply(lambda data:len(data))\n"
     ]
    },
    {
     "data": {
      "text/html": [
       "<div>\n",
       "<style scoped>\n",
       "    .dataframe tbody tr th:only-of-type {\n",
       "        vertical-align: middle;\n",
       "    }\n",
       "\n",
       "    .dataframe tbody tr th {\n",
       "        vertical-align: top;\n",
       "    }\n",
       "\n",
       "    .dataframe thead th {\n",
       "        text-align: right;\n",
       "    }\n",
       "</style>\n",
       "<table border=\"1\" class=\"dataframe\">\n",
       "  <thead>\n",
       "    <tr style=\"text-align: right;\">\n",
       "      <th></th>\n",
       "      <th>id</th>\n",
       "      <th>step</th>\n",
       "      <th>str_len</th>\n",
       "    </tr>\n",
       "  </thead>\n",
       "  <tbody>\n",
       "    <tr>\n",
       "      <th>0</th>\n",
       "      <td>ad7d585b06850f8437ff5fb97d3c7a823ff21bb1</td>\n",
       "      <td>鍋に豚肉をいれて酒砂糖みりん醤油しょうが薄切りにんにくで煮込みます</td>\n",
       "      <td>33</td>\n",
       "    </tr>\n",
       "    <tr>\n",
       "      <th>1</th>\n",
       "      <td>4afce5687dc173ad4fef943b686582a1cd06e264</td>\n",
       "      <td>にんじんとれんこんをおろし金でおろします</td>\n",
       "      <td>20</td>\n",
       "    </tr>\n",
       "    <tr>\n",
       "      <th>2</th>\n",
       "      <td>4afce5687dc173ad4fef943b686582a1cd06e264</td>\n",
       "      <td>挽肉と玉ねぎのみじん切りを加えよく</td>\n",
       "      <td>17</td>\n",
       "    </tr>\n",
       "    <tr>\n",
       "      <th>4</th>\n",
       "      <td>4afce5687dc173ad4fef943b686582a1cd06e264</td>\n",
       "      <td>塩コショウを加えピーマンに詰めあとは焼くだけ</td>\n",
       "      <td>22</td>\n",
       "    </tr>\n",
       "    <tr>\n",
       "      <th>5</th>\n",
       "      <td>4afce5687dc173ad4fef943b686582a1cd06e264</td>\n",
       "      <td>少し蒸らして火を通しできあがり</td>\n",
       "      <td>15</td>\n",
       "    </tr>\n",
       "  </tbody>\n",
       "</table>\n",
       "</div>"
      ],
      "text/plain": [
       "                                         id  \\\n",
       "0  ad7d585b06850f8437ff5fb97d3c7a823ff21bb1   \n",
       "1  4afce5687dc173ad4fef943b686582a1cd06e264   \n",
       "2  4afce5687dc173ad4fef943b686582a1cd06e264   \n",
       "4  4afce5687dc173ad4fef943b686582a1cd06e264   \n",
       "5  4afce5687dc173ad4fef943b686582a1cd06e264   \n",
       "\n",
       "                                step  str_len  \n",
       "0  鍋に豚肉をいれて酒砂糖みりん醤油しょうが薄切りにんにくで煮込みます       33  \n",
       "1               にんじんとれんこんをおろし金でおろします       20  \n",
       "2                  挽肉と玉ねぎのみじん切りを加えよく       17  \n",
       "4             塩コショウを加えピーマンに詰めあとは焼くだけ       22  \n",
       "5                    少し蒸らして火を通しできあがり       15  "
      ]
     },
     "execution_count": 3,
     "metadata": {},
     "output_type": "execute_result"
    }
   ],
   "source": [
    "cleaned_data = cleaned_data.dropna(subset=[\"step\"])\n",
    "cleaned_data[\"str_len\"] = cleaned_data[\"step\"].apply(lambda data:len(data))\n",
    "output = cleaned_data[cleaned_data[\"str_len\"] != 0]\n",
    "output.head()"
   ]
  },
  {
   "cell_type": "code",
   "execution_count": 5,
   "metadata": {},
   "outputs": [
    {
     "name": "stderr",
     "output_type": "stream",
     "text": [
      "100%|██████████| 8702111/8702111 [07:30<00:00, 19328.58it/s]\n"
     ]
    },
    {
     "name": "stdout",
     "output_type": "stream",
     "text": [
      "平均語彙サイズ: 1.8377319978969409\n",
      "平均語彙数: 18.076336649808304\n"
     ]
    }
   ],
   "source": [
    "\"\"\"\n",
    "コーパスの作成\n",
    "\"\"\"\n",
    "from tqdm import tqdm as tq\n",
    "import MeCab\n",
    "\n",
    "m = MeCab.Tagger(\"-d /usr/lib/x86_64-linux-gnu/mecab/dic/mecab-ipadic-neologd -Owakati\")\n",
    "\n",
    "# 合計語彙数\n",
    "num = 0\n",
    "# データの総文字数\n",
    "str_len = output[\"str_len\"].sum()\n",
    "# 学習データ\n",
    "corpas = \"\"\n",
    "# 直前のid\n",
    "id_before = \"\"\n",
    "\n",
    "for step in tq(output.itertuples(),total=len(output)):\n",
    "    if id_before != step.id:\n",
    "        corpas += \"\\n\"\n",
    "    id_before = step.id\n",
    "    wakati = m.parse(step.step)\n",
    "    wakati = wakati.replace(\"\\n\",\"\")\n",
    "    num += len(wakati.split(' '))\n",
    "    corpas += wakati\n",
    "\n",
    "with open(\"../data/train_data/cookpad_step_corpas_GROUPED_BY_ID.txt\",'w') as out_corpas:\n",
    "    out_corpas.write(corpas)\n",
    "\n",
    "print(\"平均語彙サイズ:\",str_len/num)\n",
    "print(\"平均語彙数:\",num/len(output))"
   ]
  }
 ],
 "metadata": {
  "interpreter": {
   "hash": "d4d1e4263499bec80672ea0156c357c1ee493ec2b1c70f0acce89fc37c4a6abe"
  },
  "kernelspec": {
   "display_name": "Python 3.9.7 64-bit ('base': conda)",
   "language": "python",
   "name": "python3"
  },
  "language_info": {
   "codemirror_mode": {
    "name": "ipython",
    "version": 3
   },
   "file_extension": ".py",
   "mimetype": "text/x-python",
   "name": "python",
   "nbconvert_exporter": "python",
   "pygments_lexer": "ipython3",
   "version": "3.9.7"
  },
  "orig_nbformat": 4
 },
 "nbformat": 4,
 "nbformat_minor": 2
}
