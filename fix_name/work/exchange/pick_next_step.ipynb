{
 "cells": [
  {
   "cell_type": "code",
   "execution_count": 1,
   "metadata": {},
   "outputs": [
    {
     "name": "stdout",
     "output_type": "stream",
     "text": [
      "10895692\n",
      "step1で変換に成功した食材名: 6570407\n",
      "step1で変換できなかったデータ: 4325285\n"
     ]
    }
   ],
   "source": [
    "\"\"\"\n",
    "step1 ==> step2\n",
    "のためのデータの厳選\n",
    "\"\"\"\n",
    "\n",
    "import pandas as pd\n",
    "\n",
    "step1_data = pd.read_csv('../data/exchange_data/step1.csv',dtype=\"str\")\n",
    "\n",
    "print(len(step1_data))\n",
    "\n",
    "step1_done = step1_data[~step1_data[\"result\"].str.contains(\"empty|\\?\")]\n",
    "step2_in = step1_data[step1_data[\"result\"].str.contains(\"empty|\\?\")]\n",
    "\n",
    "print(\"step1で変換に成功した食材名:\",len(step1_done))\n",
    "print(\"step1で変換できなかったデータ:\",len(step2_in))\n",
    "\n",
    "step1_done.to_csv(\"../data/exchange_data/step1_done.csv\")\n",
    "step2_in.to_csv(\"../data/exchange_data/step2_in.csv\")"
   ]
  },
  {
   "cell_type": "code",
   "execution_count": 2,
   "metadata": {},
   "outputs": [
    {
     "name": "stdout",
     "output_type": "stream",
     "text": [
      "4325285\n",
      "step2で変換に成功した食材名: 1012926\n",
      "step2で変換できなかったデータ: 3312359\n"
     ]
    }
   ],
   "source": [
    "\"\"\"\n",
    "step2 ==> step3\n",
    "のためのデータの厳選\n",
    "\"\"\"\n",
    "\n",
    "import pandas as pd\n",
    "\n",
    "step2_data = pd.read_csv('../data/exchange_data/step2.csv',dtype=\"str\")\n",
    "step2_data = step2_data[[\"id\",\"name\",\"result\",\"quantity\"]]\n",
    "print(len(step2_data))\n",
    "\n",
    "step2_done = step2_data[~step2_data[\"result\"].str.contains(\"empty|\\?\")]\n",
    "step3_in = step2_data[step2_data[\"result\"].str.contains(\"empty|\\?\")]\n",
    "\n",
    "print(\"step2で変換に成功した食材名:\",len(step2_done))\n",
    "print(\"step2で変換できなかったデータ:\",len(step3_in))\n",
    "\n",
    "step2_done.to_csv(\"../data/exchange_data/step2_done.csv\")\n",
    "step3_in.to_csv(\"../data/exchange_data/step3_in.csv\")"
   ]
  }
 ],
 "metadata": {
  "interpreter": {
   "hash": "d4d1e4263499bec80672ea0156c357c1ee493ec2b1c70f0acce89fc37c4a6abe"
  },
  "kernelspec": {
   "display_name": "Python 3.9.7 ('base')",
   "language": "python",
   "name": "python3"
  },
  "language_info": {
   "codemirror_mode": {
    "name": "ipython",
    "version": 3
   },
   "file_extension": ".py",
   "mimetype": "text/x-python",
   "name": "python",
   "nbconvert_exporter": "python",
   "pygments_lexer": "ipython3",
   "version": "3.9.7"
  },
  "orig_nbformat": 4
 },
 "nbformat": 4,
 "nbformat_minor": 2
}
