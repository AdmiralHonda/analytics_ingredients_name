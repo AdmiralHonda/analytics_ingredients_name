{
 "cells": [
  {
   "cell_type": "code",
   "execution_count": 5,
   "metadata": {},
   "outputs": [
    {
     "name": "stdout",
     "output_type": "stream",
     "text": [
      "10895692\n"
     ]
    }
   ],
   "source": [
    "\"\"\"\n",
    "分量変換のステップに渡すデータの生成\n",
    "\"\"\"\n",
    "import pandas as pd\n",
    "\n",
    "step1_data = pd.read_csv('../data/exchange_data/step1_done.csv',dtype=\"str\")\n",
    "step2_data = pd.read_csv('../data/exchange_data/step2_done.csv',dtype=\"str\")\n",
    "step3_data = pd.read_csv('../data/exchange_data/step3.csv',dtype=\"str\")\n",
    "fixed_name_data = pd.concat([step1_data,step2_data,step3_data])\n",
    "\n",
    "print(len(fixed_name_data))\n",
    "\n",
    "fixed_name_data = fixed_name_data[[\"id\",\"result\",\"quantity\"]]\n",
    "fixed_name_data.to_csv(\"../data/exchange_data/fixed_name_data.csv\")"
   ]
  }
 ],
 "metadata": {
  "interpreter": {
   "hash": "d4d1e4263499bec80672ea0156c357c1ee493ec2b1c70f0acce89fc37c4a6abe"
  },
  "kernelspec": {
   "display_name": "Python 3.9.7 ('base')",
   "language": "python",
   "name": "python3"
  },
  "language_info": {
   "codemirror_mode": {
    "name": "ipython",
    "version": 3
   },
   "file_extension": ".py",
   "mimetype": "text/x-python",
   "name": "python",
   "nbconvert_exporter": "python",
   "pygments_lexer": "ipython3",
   "version": "3.9.7"
  },
  "orig_nbformat": 4
 },
 "nbformat": 4,
 "nbformat_minor": 2
}
